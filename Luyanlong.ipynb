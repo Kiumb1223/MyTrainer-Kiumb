{
 "cells": [
  {
   "cell_type": "code",
   "execution_count": 1,
   "metadata": {},
   "outputs": [
    {
     "name": "stderr",
     "output_type": "stream",
     "text": [
      "d:\\anaconda3\\envs\\2torch1.8\\lib\\site-packages\\tqdm\\auto.py:21: TqdmWarning: IProgress not found. Please update jupyter and ipywidgets. See https://ipywidgets.readthedocs.io/en/stable/user_install.html\n",
      "  from .autonotebook import tqdm as notebook_tqdm\n"
     ]
    }
   ],
   "source": [
    "import torch\n",
    "source_Info = torch.tensor([\n",
    "# [x_min, y_min, x_max, y_max, width, height, x_center, y_center]\n",
    "    [0.0, 0.0, 1.0, 1.0, 1.0, 1.0, 0.5, 0.5],  # 第一组边界框\n",
    "    [2.0, 2.0, 4.0, 4.0, 2.0, 2.0, 3.0, 3.0],  # 第二组边界框\n",
    "    [1.0, 1.0, 3.0, 2.0, 2.0, 1.0, 2.0, 1.5],  # 第三组边界框\n",
    "])\n",
    "\n",
    "\n",
    "target_Info = torch.tensor([\n",
    "# [x_min, y_min, x_max, y_max, width, height, x_center, y_center]\n",
    "    [0.5, 0.5, 1.5, 1.5, 1.0, 1.0, 1.0, 1.0],  # 第一组边界框\n",
    "    [3.0, 3.0, 5.0, 5.0, 2.0, 2.0, 4.0, 4.0],  # 第二组边界框\n",
    "    [0.0, 0.0, 2.0, 2.0, 2.0, 2.0, 1.0, 1.0],  # 第三组边界框\n",
    "])"
   ]
  },
  {
   "cell_type": "code",
   "execution_count": 10,
   "metadata": {},
   "outputs": [
    {
     "data": {
      "text/plain": [
       "(tensor([1., 4., 2.]), tensor([1., 4., 4.]))"
      ]
     },
     "execution_count": 10,
     "metadata": {},
     "output_type": "execute_result"
    }
   ],
   "source": [
    "source_area = source_Info[:,4] * source_Info[:,5]\n",
    "target_area = target_Info[:,4] * target_Info[:,5]\n",
    "source_area , target_area"
   ]
  },
  {
   "cell_type": "code",
   "execution_count": 5,
   "metadata": {},
   "outputs": [
    {
     "data": {
      "text/plain": [
       "tensor([[0.5000, 0.5000],\n",
       "        [3.0000, 3.0000],\n",
       "        [1.0000, 1.0000]])"
      ]
     },
     "execution_count": 5,
     "metadata": {},
     "output_type": "execute_result"
    }
   ],
   "source": [
    "torch.max(source_Info[:, :2], target_Info[:, :2])"
   ]
  },
  {
   "cell_type": "code",
   "execution_count": 7,
   "metadata": {},
   "outputs": [
    {
     "data": {
      "text/plain": [
       "tensor([[1., 1.],\n",
       "        [4., 4.],\n",
       "        [2., 2.]])"
      ]
     },
     "execution_count": 7,
     "metadata": {},
     "output_type": "execute_result"
    }
   ],
   "source": [
    "torch.min(source_Info[:, 2:4], target_Info[:, 2:4])"
   ]
  },
  {
   "cell_type": "code",
   "execution_count": 8,
   "metadata": {},
   "outputs": [
    {
     "data": {
      "text/plain": [
       "tensor([[0.5000, 0.5000],\n",
       "        [1.0000, 1.0000],\n",
       "        [1.0000, 1.0000]])"
      ]
     },
     "execution_count": 8,
     "metadata": {},
     "output_type": "execute_result"
    }
   ],
   "source": [
    "# union_area = \n",
    "lt = torch.max(source_Info[:, :2], target_Info[:, :2])  # [M,2]\n",
    "rb = torch.min(source_Info[:, 2:4], target_Info[:, 2:4])  # [M,2]\n",
    "wh = torch.clamp(rb - lt, min=0) \n",
    "wh "
   ]
  },
  {
   "cell_type": "code",
   "execution_count": 9,
   "metadata": {},
   "outputs": [
    {
     "data": {
      "text/plain": [
       "tensor([0.2500, 1.0000, 1.0000])"
      ]
     },
     "execution_count": 9,
     "metadata": {},
     "output_type": "execute_result"
    }
   ],
   "source": [
    "union_area = wh[:, 0] * wh[:, 1]  \n",
    "union_area"
   ]
  },
  {
   "cell_type": "code",
   "execution_count": 12,
   "metadata": {},
   "outputs": [
    {
     "data": {
      "text/plain": [
       "tensor([0.1429, 0.1429, 0.2000])"
      ]
     },
     "execution_count": 12,
     "metadata": {},
     "output_type": "execute_result"
    }
   ],
   "source": [
    "iou = union_area / (source_area + target_area - union_area)\n",
    "iou"
   ]
  },
  {
   "cell_type": "code",
   "execution_count": 13,
   "metadata": {},
   "outputs": [
    {
     "data": {
      "text/plain": [
       "(tensor([[0., 0.],\n",
       "         [2., 2.],\n",
       "         [0., 0.]]),\n",
       " tensor([[1.5000, 1.5000],\n",
       "         [5.0000, 5.0000],\n",
       "         [3.0000, 2.0000]]))"
      ]
     },
     "execution_count": 13,
     "metadata": {},
     "output_type": "execute_result"
    }
   ],
   "source": [
    "convex_lt = torch.min(source_Info[:,:2],target_Info[:,:2])\n",
    "convex_rb = torch.max(source_Info[:,2:4],target_Info[:,2:4])\n",
    "convex_lt,convex_rb"
   ]
  },
  {
   "cell_type": "code",
   "execution_count": null,
   "metadata": {},
   "outputs": [],
   "source": [
    "# cal the box's area of boxes1 and boxess\n",
    "boxes1Area = source_Info[:, 4] * source_Info[:, 5]\n",
    "boxes2Area = target_Info[:, 4] * target_Info[:, 5]\n",
    "lt = torch.max(source_Info[:, :2], target_Info[:, :2])  # [M,2]\n",
    "rb = torch.min(source_Info[:, 2:], target_Info[:, 2:])  # [M,2]\n",
    "wh = torch.clamp(rb - lt, min=0)  # [M,2]\n",
    "inter_area = wh[:, 0] * wh[:, 1]  # [M]\n",
    "\n",
    "union_area = boxes1Area + boxes2Area - inter_area\n",
    "iou = inter_area / union_area\n",
    "# if iou_type == 'iou':\n",
    "#     return iou\n",
    "# w1, h1 = source_Info[:, 4:6]\n",
    "# w2, h2 = target_Info[:, 4:6]\n",
    "# center1 = source_Info[:, 6:8]\n",
    "# center2 = target_Info[:, 6:8]\n",
    "# out_max_xy = torch.max(source_Info[:, 2:], target_Info[:, 2:])\n",
    "# out_min_xy = torch.min(source_Info[:, :2], target_Info[:, :2])# [M, 2]\n",
    "# outer = torch.clamp((out_max_xy - out_min_xy), min=0)  # converx bbox \n",
    "# c_area = outer[:, 0] * outer[:, 1] + 1e-16       \n",
    "# if iou_type == 'giou':\n",
    "#     return iou - (c_area - union_area) / c_area\n",
    "# # if DIOU or CIOU:\n",
    "# outer_diag = (outer[:, 0] ** 2) + (outer[:, 1] ** 2)  # convex diagonal squard length\n",
    "# inter_diag = (center1[:, 0] - center2[:, 0]) ** 2 + (center1[:, 1] - center2[:, 1]) ** 2\n",
    "#     # if DIOU:\n",
    "# if iou_type == 'diou':\n",
    "#     return iou - inter_diag / outer_diag\n",
    "#     # elif CIOU:\n",
    "# if iou_type == 'ciou':\n",
    "#     arctan = torch.atan(w2 / h2)[:] - torch.atan(w1 / h1)\n",
    "#     v = (4 / (torch.pi ** 2)) * torch.pow(arctan, 2)\n",
    "#     S = 1 - iou\n",
    "#     with torch.no_grad():\n",
    "#         alpha = v / (S + v)\n",
    "#         u = inter_diag / outer_diag\n",
    "#         ciou = iou - (u + v * alpha)\n",
    "#         ciou = torch.clamp(ciou, min=-1.0, max=1.0)\n",
    "#     return ciou"
   ]
  }
 ],
 "metadata": {
  "kernelspec": {
   "display_name": "2torch1.8",
   "language": "python",
   "name": "python3"
  },
  "language_info": {
   "codemirror_mode": {
    "name": "ipython",
    "version": 3
   },
   "file_extension": ".py",
   "mimetype": "text/x-python",
   "name": "python",
   "nbconvert_exporter": "python",
   "pygments_lexer": "ipython3",
   "version": "3.8.11"
  }
 },
 "nbformat": 4,
 "nbformat_minor": 2
}
